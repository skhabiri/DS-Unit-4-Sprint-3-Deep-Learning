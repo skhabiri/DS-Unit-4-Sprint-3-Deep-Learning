{
 "cells": [
  {
   "cell_type": "markdown",
   "metadata": {
    "colab_type": "text",
    "id": "view-in-github"
   },
   "source": [
    "<a href=\"https://colab.research.google.com/github/skhabiri/DS-Unit-4-Sprint-3-Deep-Learning/blob/main/module1-rnn-and-lstm/LS_DS17_431_RNN_and_LSTM_Assignment.ipynb\" target=\"_parent\"><img src=\"https://colab.research.google.com/assets/colab-badge.svg\" alt=\"Open In Colab\"/></a>"
   ]
  },
  {
   "cell_type": "markdown",
   "metadata": {
    "colab_type": "text",
    "id": "5LizDUOc1l-I"
   },
   "source": [
    "## *Data Science Unit 4 Sprint 3 Module 1*\n",
    "\n",
    "# Recurrent Neural Networks and Long Short Term Memory (LSTM)\n",
    "\n",
    "![Monkey at a typewriter](https://upload.wikimedia.org/wikipedia/commons/thumb/3/3c/Chimpanzee_seated_at_typewriter.jpg/603px-Chimpanzee_seated_at_typewriter.jpg)\n",
    "\n",
    "It is said that [infinite monkeys typing for an infinite amount of time](https://en.wikipedia.org/wiki/Infinite_monkey_theorem) will eventually type, among other things, the complete works of Wiliam Shakespeare. Let's see if we can get there a bit faster, with the power of Recurrent Neural Networks and LSTM.\n",
    "\n",
    "This text file contains the complete works of Shakespeare: https://www.gutenberg.org/files/100/100-0.txt\n",
    "\n",
    "Use it as training data for an RNN - you can keep it simple and train character level, and that is suggested as an initial approach.\n",
    "\n",
    "Then, use that trained RNN to generate Shakespearean-ish text. Your goal - a function that can take, as an argument, the size of text (e.g. number of characters or lines) to generate, and returns generated text of that size.\n",
    "\n",
    "Note - Shakespeare wrote an awful lot. It's OK, especially initially, to sample/use smaller data and parameters, so you can have a tighter feedback loop when you're trying to get things running. Then, once you've got a proof of concept - start pushing it more!"
   ]
  },
  {
   "cell_type": "code",
   "execution_count": 1,
   "metadata": {
    "colab": {},
    "colab_type": "code",
    "execution": {
     "iopub.execute_input": "2020-06-15T18:18:20.453Z",
     "iopub.status.busy": "2020-06-15T18:18:20.442Z",
     "iopub.status.idle": "2020-06-15T18:18:20.513Z",
     "shell.execute_reply": "2020-06-15T18:18:20.523Z"
    },
    "id": "NXX1KDHC1l-J"
   },
   "outputs": [],
   "source": [
    "import requests\n",
    "import pandas as pd"
   ]
  },
  {
   "cell_type": "code",
   "execution_count": 2,
   "metadata": {
    "colab": {},
    "colab_type": "code",
    "execution": {
     "iopub.execute_input": "2020-06-15T18:25:49.781Z",
     "iopub.status.busy": "2020-06-15T18:25:49.778Z",
     "iopub.status.idle": "2020-06-15T18:25:51.467Z",
     "shell.execute_reply": "2020-06-15T18:25:51.469Z"
    },
    "id": "mRS3g6Vl1l-N"
   },
   "outputs": [],
   "source": [
    "url = \"https://www.gutenberg.org/files/100/100-0.txt\"\n",
    "\n",
    "r = requests.get(url)\n",
    "r.encoding = r.apparent_encoding\n",
    "data = r.text\n",
    "data = data.split('\\r\\n')\n",
    "toc = [l.strip() for l in data[44:130:2]]\n",
    "# Skip the Table of Contents\n",
    "data = data[135:]\n",
    "\n",
    "# Fixing Titles\n",
    "toc[9] = 'THE LIFE OF KING HENRY V'\n",
    "toc[18] = 'MACBETH'\n",
    "toc[24] = 'OTHELLO, THE MOOR OF VENICE'\n",
    "toc[34] = 'TWELFTH NIGHT: OR, WHAT YOU WILL'\n",
    "\n",
    "locations = {id_:{'title':title, 'start':-99} for id_,title in enumerate(toc)}\n",
    "\n",
    "# Start \n",
    "for e,i in enumerate(data):\n",
    "    for t,title in enumerate(toc):\n",
    "        if title in i:\n",
    "            locations[t].update({'start':e})\n",
    "            \n",
    "\n",
    "df_toc = pd.DataFrame.from_dict(locations, orient='index')\n",
    "df_toc['end'] = df_toc['start'].shift(-1).apply(lambda x: x-1)\n",
    "df_toc.loc[42, 'end'] = len(data)\n",
    "df_toc['end'] = df_toc['end'].astype('int')\n",
    "\n",
    "df_toc['text'] = df_toc.apply(lambda x: '\\r\\n'.join(data[ x['start'] : int(x['end']) ]), axis=1)"
   ]
  },
  {
   "cell_type": "code",
   "execution_count": 3,
   "metadata": {
    "colab": {
     "base_uri": "https://localhost:8080/",
     "height": 204
    },
    "colab_type": "code",
    "collapsed": false,
    "execution": {
     "iopub.execute_input": "2020-06-15T18:26:12.637Z",
     "iopub.status.busy": "2020-06-15T18:26:12.630Z",
     "iopub.status.idle": "2020-06-15T18:26:12.643Z",
     "shell.execute_reply": "2020-06-15T18:26:12.647Z"
    },
    "id": "BSeKOKHF1l-P",
    "jupyter": {
     "outputs_hidden": false,
     "source_hidden": false
    },
    "nteract": {
     "transient": {
      "deleting": false
     }
    },
    "outputId": "9c477c43-c025-476f-c2b2-01ea07a6b6b1"
   },
   "outputs": [
    {
     "data": {
      "text/html": [
       "<div>\n",
       "<style scoped>\n",
       "    .dataframe tbody tr th:only-of-type {\n",
       "        vertical-align: middle;\n",
       "    }\n",
       "\n",
       "    .dataframe tbody tr th {\n",
       "        vertical-align: top;\n",
       "    }\n",
       "\n",
       "    .dataframe thead th {\n",
       "        text-align: right;\n",
       "    }\n",
       "</style>\n",
       "<table border=\"1\" class=\"dataframe\">\n",
       "  <thead>\n",
       "    <tr style=\"text-align: right;\">\n",
       "      <th></th>\n",
       "      <th>title</th>\n",
       "      <th>start</th>\n",
       "      <th>end</th>\n",
       "      <th>text</th>\n",
       "    </tr>\n",
       "  </thead>\n",
       "  <tbody>\n",
       "    <tr>\n",
       "      <th>0</th>\n",
       "      <td>THE TRAGEDY OF ANTONY AND CLEOPATRA</td>\n",
       "      <td>-99</td>\n",
       "      <td>14379</td>\n",
       "      <td></td>\n",
       "    </tr>\n",
       "    <tr>\n",
       "      <th>1</th>\n",
       "      <td>AS YOU LIKE IT</td>\n",
       "      <td>14380</td>\n",
       "      <td>17171</td>\n",
       "      <td>AS YOU LIKE IT\\r\\n\\r\\n\\r\\nDRAMATIS PERSONAE.\\r...</td>\n",
       "    </tr>\n",
       "    <tr>\n",
       "      <th>2</th>\n",
       "      <td>THE COMEDY OF ERRORS</td>\n",
       "      <td>17172</td>\n",
       "      <td>20372</td>\n",
       "      <td>THE COMEDY OF ERRORS\\r\\n\\r\\n\\r\\n\\r\\nContents\\r...</td>\n",
       "    </tr>\n",
       "    <tr>\n",
       "      <th>3</th>\n",
       "      <td>THE TRAGEDY OF CORIOLANUS</td>\n",
       "      <td>20373</td>\n",
       "      <td>30346</td>\n",
       "      <td>THE TRAGEDY OF CORIOLANUS\\r\\n\\r\\nDramatis Pers...</td>\n",
       "    </tr>\n",
       "    <tr>\n",
       "      <th>4</th>\n",
       "      <td>CYMBELINE</td>\n",
       "      <td>30347</td>\n",
       "      <td>30364</td>\n",
       "      <td>CYMBELINE.\\r\\nLaud we the gods;\\r\\nAnd let our...</td>\n",
       "    </tr>\n",
       "  </tbody>\n",
       "</table>\n",
       "</div>"
      ],
      "text/plain": [
       "                                 title  ...                                               text\n",
       "0  THE TRAGEDY OF ANTONY AND CLEOPATRA  ...                                                   \n",
       "1                       AS YOU LIKE IT  ...  AS YOU LIKE IT\\r\\n\\r\\n\\r\\nDRAMATIS PERSONAE.\\r...\n",
       "2                 THE COMEDY OF ERRORS  ...  THE COMEDY OF ERRORS\\r\\n\\r\\n\\r\\n\\r\\nContents\\r...\n",
       "3            THE TRAGEDY OF CORIOLANUS  ...  THE TRAGEDY OF CORIOLANUS\\r\\n\\r\\nDramatis Pers...\n",
       "4                            CYMBELINE  ...  CYMBELINE.\\r\\nLaud we the gods;\\r\\nAnd let our...\n",
       "\n",
       "[5 rows x 4 columns]"
      ]
     },
     "execution_count": 3,
     "metadata": {
      "tags": []
     },
     "output_type": "execute_result"
    }
   ],
   "source": [
    "#Shakespeare Data Parsed by Play\n",
    "df_toc.head()"
   ]
  },
  {
   "cell_type": "code",
   "execution_count": 4,
   "metadata": {
    "colab": {
     "base_uri": "https://localhost:8080/",
     "height": 34
    },
    "colab_type": "code",
    "id": "yLDO4Grn3m1z",
    "outputId": "abd6767e-4de9-4596-f65f-c7755141ff5c"
   },
   "outputs": [
    {
     "data": {
      "text/plain": [
       "(43, 4)"
      ]
     },
     "execution_count": 4,
     "metadata": {
      "tags": []
     },
     "output_type": "execute_result"
    }
   ],
   "source": [
    "df_toc.shape"
   ]
  },
  {
   "cell_type": "code",
   "execution_count": 5,
   "metadata": {
    "colab": {
     "base_uri": "https://localhost:8080/",
     "height": 34
    },
    "colab_type": "code",
    "id": "sg8JTsm14B9o",
    "outputId": "6e721883-3533-4d35-e2cc-86f9b383e0cf"
   },
   "outputs": [
    {
     "data": {
      "text/plain": [
       "136678"
      ]
     },
     "execution_count": 5,
     "metadata": {
      "tags": []
     },
     "output_type": "execute_result"
    }
   ],
   "source": [
    "len(df_toc['text'][1])"
   ]
  },
  {
   "cell_type": "code",
   "execution_count": 6,
   "metadata": {
    "colab": {
     "base_uri": "https://localhost:8080/",
     "height": 765
    },
    "colab_type": "code",
    "id": "IrMrYDOn3t6W",
    "outputId": "d91f91a3-d73b-43ec-f709-7c5c44a4e9e0"
   },
   "outputs": [
    {
     "data": {
      "text/plain": [
       "0                                                      \n",
       "1     AS YOU LIKE IT\\r\\n\\r\\n\\r\\nDRAMATIS PERSONAE.\\r...\n",
       "2     THE COMEDY OF ERRORS\\r\\n\\r\\n\\r\\n\\r\\nContents\\r...\n",
       "3     THE TRAGEDY OF CORIOLANUS\\r\\n\\r\\nDramatis Pers...\n",
       "4     CYMBELINE.\\r\\nLaud we the gods;\\r\\nAnd let our...\n",
       "5     THE TRAGEDY OF HAMLET, PRINCE OF DENMARK\\r\\n\\r...\n",
       "6     THE FIRST PART OF KING HENRY THE FOURTH\\r\\n\\r\\...\n",
       "7     THE SECOND PART OF KING HENRY THE FOURTH\\r\\n\\r...\n",
       "8                                                      \n",
       "9     THE LIFE OF KING HENRY V\\r\\n\\r\\n\\r\\n\\r\\nConten...\n",
       "10    THE SECOND PART OF KING HENRY THE SIXTH\\r\\n\\r\\...\n",
       "11    THE THIRD PART OF KING HENRY THE SIXTH\\r\\n\\r\\n...\n",
       "12                     KING HENRY THE EIGHTH\\r\\n\\r\\n...\n",
       "13      KING JOHN. O cousin, thou art come to set mi...\n",
       "14    THE TRAGEDY OF JULIUS CAESAR\\r\\n\\r\\n\\r\\n\\r\\nCo...\n",
       "15    THE TRAGEDY OF KING LEAR\\r\\n\\r\\n\\r\\n\\r\\nConten...\n",
       "16    LOVE’S LABOUR’S LOST\\r\\n\\r\\nDramatis Personae....\n",
       "17                                                     \n",
       "18    MACBETH.\\r\\nI will not yield,\\r\\nTo kiss the g...\n",
       "19    THE MERCHANT OF VENICE\\r\\n\\r\\n\\r\\n\\r\\nContents...\n",
       "20    THE MERRY WIVES OF WINDSOR\\r\\n\\r\\nDramatis Per...\n",
       "21    A MIDSUMMER NIGHT’S DREAM\\r\\n\\r\\n\\r\\n\\r\\nConte...\n",
       "22     MUCH ADO ABOUT NOTHING\\r\\n\\r\\n\\r\\n\\r\\nContent...\n",
       "23                                                     \n",
       "24    OTHELLO, THE MOOR OF VENICE\\r\\n\\r\\n\\r\\n\\r\\nCon...\n",
       "25      KING RICHARD THE SECOND\\r\\n  JOHN OF GAUNT, ...\n",
       "26    KING RICHARD THE THIRD\\r\\n\\r\\nDramatis Persona...\n",
       "27    THE TRAGEDY OF ROMEO AND JULIET\\r\\n\\r\\n\\r\\n\\r\\...\n",
       "28    THE TAMING OF THE SHREW\\r\\n\\r\\n\\r\\n\\r\\nContent...\n",
       "29    THE TEMPEST\\r\\n\\r\\n\\r\\n\\r\\nContents\\r\\n\\r\\nACT...\n",
       "30    THE LIFE OF TIMON OF ATHENS\\r\\n\\r\\nDRAMATIS PE...\n",
       "31    THE TRAGEDY OF TITUS ANDRONICUS\\r\\n\\r\\nDramati...\n",
       "32    THE HISTORY OF TROILUS AND CRESSIDA\\r\\n\\r\\n\\r\\...\n",
       "33                                                     \n",
       "34    TWELFTH NIGHT: OR, WHAT YOU WILL\\r\\n\\r\\n\\r\\n\\r...\n",
       "35    THE TWO NOBLE KINSMEN:\\r\\n\\r\\nPresented at the...\n",
       "36    THE WINTER’S TALE\\r\\n\\r\\n\\r\\n\\r\\n\\r\\nContents\\...\n",
       "37    A LOVER’S COMPLAINT\\r\\n\\r\\n\\r\\n\\r\\nFrom off a ...\n",
       "38    THE PASSIONATE PILGRIM\\r\\n\\r\\nI.\\r\\n\\r\\nDid no...\n",
       "39    THE PHOENIX AND THE TURTLE\\r\\n\\r\\n\\r\\n\\r\\nLet ...\n",
       "40    THE RAPE OF LUCRECE\\r\\n\\r\\n                   ...\n",
       "41     VENUS AND ADONIS\\r\\n\\r\\nEven as the sun with ...\n",
       "42                                                     \n",
       "Name: text, dtype: object"
      ]
     },
     "execution_count": 6,
     "metadata": {
      "tags": []
     },
     "output_type": "execute_result"
    }
   ],
   "source": [
    "df_toc['text']"
   ]
  },
  {
   "cell_type": "code",
   "execution_count": 7,
   "metadata": {
    "colab": {
     "base_uri": "https://localhost:8080/",
     "height": 357
    },
    "colab_type": "code",
    "id": "O_y6A0LGigSK",
    "outputId": "958c8e1e-5254-4b57-bcc4-6916d795b19f"
   },
   "outputs": [
    {
     "data": {
      "text/plain": [
       "['A',\n",
       " 'S',\n",
       " ' ',\n",
       " 'Y',\n",
       " 'O',\n",
       " 'U',\n",
       " ' ',\n",
       " 'L',\n",
       " 'I',\n",
       " 'K',\n",
       " 'E',\n",
       " ' ',\n",
       " 'I',\n",
       " 'T',\n",
       " '\\r',\n",
       " '\\n',\n",
       " '\\r',\n",
       " '\\n',\n",
       " '\\r',\n",
       " '\\n']"
      ]
     },
     "execution_count": 7,
     "metadata": {
      "tags": []
     },
     "output_type": "execute_result"
    }
   ],
   "source": [
    "test = []\n",
    "for txt in df_toc['text']:\n",
    "  for x in txt:\n",
    "    test.append(x)\n",
    "test[:20]"
   ]
  },
  {
   "cell_type": "code",
   "execution_count": 8,
   "metadata": {
    "colab": {},
    "colab_type": "code",
    "id": "oxxcSOnM5McI"
   },
   "outputs": [],
   "source": [
    "# data = df_toc['text'][1:].values\n",
    "# data.shape"
   ]
  },
  {
   "cell_type": "code",
   "execution_count": 12,
   "metadata": {
    "colab": {
     "base_uri": "https://localhost:8080/",
     "height": 103
    },
    "colab_type": "code",
    "id": "Hw3Lsjf1ifWE",
    "outputId": "67f09857-24d2-42cd-8add-3047bb2f230d"
   },
   "outputs": [
    {
     "name": "stdout",
     "output_type": "stream",
     "text": [
      "43\n"
     ]
    },
    {
     "data": {
      "application/vnd.google.colaboratory.intrinsic+json": {
       "type": "string"
      },
      "text/plain": [
       "'AS YOU LIKE ITDRAMATIS PERSONAE.  DUKE, living in exile  FREDERICK, his brother, and usurper of his dominions  AMIENS, lord attending on the banished Duke  JAQUES,                               LE BEAU, a courtier attending upon Frederick  CHARLES, wrestler to Frederick  OLIVER, son of Sir Rowland de Boys  JAQUES,                     ORLANDO,                    ADAM,   servant to Oliver  DENNIS,               TOUCHSTONE, the court jester  SIR OLIVER MARTEXT, a vicar  CORIN,    shepherd  SILVIUS,'"
      ]
     },
     "execution_count": 12,
     "metadata": {
      "tags": []
     },
     "output_type": "execute_result"
    }
   ],
   "source": [
    "# removing \\r\\n and \" from the pd.series and store as a list of strings\n",
    "data = []\n",
    "# txt is each of 43 chapters\n",
    "for txt in df_toc['text']:\n",
    "  # x is each character in a chapter\n",
    "  # white spaces are not removed\n",
    "  t = [x.replace('\\r', '').replace('\\n', '').replace('\"', '') for x in txt]\n",
    "  data.append(\"\".join(t))\n",
    "print(len(data))\n",
    "# data is a list of 43 items. Each chapter's \\r and \\n is removed, but still has multiple consecutive white spaces\n",
    "data[1][:500]"
   ]
  },
  {
   "cell_type": "code",
   "execution_count": 13,
   "metadata": {
    "colab": {},
    "colab_type": "code",
    "id": "o_WPuqKIjk_O"
   },
   "outputs": [],
   "source": [
    "# For each chapter converts multiple spaces into one space\n",
    "data = [' '.join(data[i].split()) for i in range(len(data))]"
   ]
  },
  {
   "cell_type": "code",
   "execution_count": 14,
   "metadata": {
    "colab": {
     "base_uri": "https://localhost:8080/",
     "height": 86
    },
    "colab_type": "code",
    "id": "G4lrAx8Bk0e7",
    "outputId": "c1dfd3f1-fcce-493b-8208-949cd550f939"
   },
   "outputs": [
    {
     "data": {
      "application/vnd.google.colaboratory.intrinsic+json": {
       "type": "string"
      },
      "text/plain": [
       "'AS YOU LIKE ITDRAMATIS PERSONAE. DUKE, living in exile FREDERICK, his brother, and usurper of his dominions AMIENS, lord attending on the banished Duke JAQUES, LE BEAU, a courtier attending upon Frederick CHARLES, wrestler to Frederick OLIVER, son of Sir Rowland de Boys JAQUES, ORLANDO, ADAM, servant to Oliver DENNIS, TOUCHSTONE, the court jester SIR OLIVER MARTEXT, a vicar CORIN, shepherd SILVIUS, WILLIAM, a country fellow, in love with Audrey A person representing HYMEN ROSALIND, daughter to t'"
      ]
     },
     "execution_count": 14,
     "metadata": {
      "tags": []
     },
     "output_type": "execute_result"
    }
   ],
   "source": [
    "data[1][:500]"
   ]
  },
  {
   "cell_type": "code",
   "execution_count": 15,
   "metadata": {
    "colab": {},
    "colab_type": "code",
    "id": "IObMjsGZ4_Jz"
   },
   "outputs": [],
   "source": [
    "from tensorflow.keras.callbacks import LambdaCallback\n",
    "from tensorflow.keras.models import Sequential\n",
    "from tensorflow.keras.layers import Dense, LSTM\n",
    "from tensorflow.keras.optimizers import RMSprop\n",
    "\n",
    "import numpy as np\n",
    "import random\n",
    "import sys\n",
    "import os\n",
    "import re\n"
   ]
  },
  {
   "cell_type": "code",
   "execution_count": 16,
   "metadata": {
    "colab": {
     "base_uri": "https://localhost:8080/",
     "height": 34
    },
    "colab_type": "code",
    "id": "In9Zlzpyk_-V",
    "outputId": "a94a9034-f283-42f1-9e4d-99397211c2f2"
   },
   "outputs": [
    {
     "name": "stdout",
     "output_type": "stream",
     "text": [
      "43\n"
     ]
    }
   ],
   "source": [
    "print(len(data))\n",
    "# connect all the 43 chapters with a space character into a long flattened text\n",
    "# then make the text lower case as well\n",
    "text = ' '.join(data).lower()"
   ]
  },
  {
   "cell_type": "code",
   "execution_count": 17,
   "metadata": {
    "colab": {},
    "colab_type": "code",
    "id": "N7ZsUv5FoBqJ"
   },
   "outputs": [],
   "source": [
    "# remove all non-related characters\n",
    "text = re.sub(\"[^a-z A-Z.:;?'!,`-]\", \"\", text)"
   ]
  },
  {
   "cell_type": "code",
   "execution_count": 19,
   "metadata": {
    "colab": {
     "base_uri": "https://localhost:8080/",
     "height": 86
    },
    "colab_type": "code",
    "id": "KKnQ_rceB3jy",
    "outputId": "b800b564-946b-4b09-f937-12b85546ed9f"
   },
   "outputs": [
    {
     "data": {
      "application/vnd.google.colaboratory.intrinsic+json": {
       "type": "string"
      },
      "text/plain": [
       "' as you like itdramatis personae. duke, living in exile frederick, his brother, and usurper of his dominions amiens, lord attending on the banished duke jaques, le beau, a courtier attending upon frederick charles, wrestler to frederick oliver, son of sir rowland de boys jaques, orlando, adam, servant to oliver dennis, touchstone, the court jester sir oliver martext, a vicar corin, shepherd silvius, william, a country fellow, in love with audrey a person representing hymen rosalind, daughter to '"
      ]
     },
     "execution_count": 19,
     "metadata": {
      "tags": []
     },
     "output_type": "execute_result"
    }
   ],
   "source": [
    "text[:500]"
   ]
  },
  {
   "cell_type": "code",
   "execution_count": null,
   "metadata": {
    "colab": {
     "base_uri": "https://localhost:8080/",
     "height": 34
    },
    "colab_type": "code",
    "id": "PgO84FQwBpmm",
    "outputId": "8e781715-c853-4cdc-a60b-15c6b0706fe5"
   },
   "outputs": [
    {
     "name": "stdout",
     "output_type": "stream",
     "text": [
      "36\n"
     ]
    }
   ],
   "source": [
    "# get a list of all used characters to be used as bag of items, but remove the duplicate characters\n",
    "chars = list(set(text))\n",
    "\n",
    "char_int = {c:i for i, c in enumerate(chars)}\n",
    "int_char = {i:c for i, c in enumerate(chars)}\n",
    "\n",
    "print(len(chars))"
   ]
  },
  {
   "cell_type": "code",
   "execution_count": null,
   "metadata": {
    "colab": {
     "base_uri": "https://localhost:8080/",
     "height": 629
    },
    "colab_type": "code",
    "id": "ZybRHGl1mrz6",
    "outputId": "44dd9d7c-7e8f-4caa-a76b-c75b367ddd00"
   },
   "outputs": [
    {
     "data": {
      "text/plain": [
       "{' ': 17,\n",
       " '!': 31,\n",
       " \"'\": 27,\n",
       " ',': 8,\n",
       " '-': 15,\n",
       " '.': 4,\n",
       " ':': 2,\n",
       " ';': 28,\n",
       " '?': 33,\n",
       " '`': 1,\n",
       " 'a': 11,\n",
       " 'b': 23,\n",
       " 'c': 30,\n",
       " 'd': 34,\n",
       " 'e': 21,\n",
       " 'f': 18,\n",
       " 'g': 9,\n",
       " 'h': 19,\n",
       " 'i': 13,\n",
       " 'j': 12,\n",
       " 'k': 7,\n",
       " 'l': 0,\n",
       " 'm': 32,\n",
       " 'n': 26,\n",
       " 'o': 5,\n",
       " 'p': 6,\n",
       " 'q': 3,\n",
       " 'r': 25,\n",
       " 's': 29,\n",
       " 't': 24,\n",
       " 'u': 10,\n",
       " 'v': 35,\n",
       " 'w': 22,\n",
       " 'x': 20,\n",
       " 'y': 16,\n",
       " 'z': 14}"
      ]
     },
     "execution_count": 17,
     "metadata": {
      "tags": []
     },
     "output_type": "execute_result"
    }
   ],
   "source": [
    "char_int"
   ]
  },
  {
   "cell_type": "code",
   "execution_count": null,
   "metadata": {
    "colab": {
     "base_uri": "https://localhost:8080/",
     "height": 34
    },
    "colab_type": "code",
    "id": "zMkbsfVF5wco",
    "outputId": "84ba5c2a-8316-4b93-a8d3-899daa450c02"
   },
   "outputs": [
    {
     "name": "stdout",
     "output_type": "stream",
     "text": [
      "sequences:  685838 685839.85\n"
     ]
    }
   ],
   "source": [
    "# sequence length\n",
    "maxlen = 40\n",
    "# stepping\n",
    "step = 20\n",
    "\n",
    "# iterate through each character of the text\n",
    "encoded = [char_int[c] for c in text]\n",
    "\n",
    "sequences = [] # Each element is 40 chars long\n",
    "next_char = [] # One character for each element of sequence\n",
    "\n",
    "for i in range(0, len(encoded) - maxlen, step):\n",
    "    sequences.append(encoded[i : i + maxlen])\n",
    "    # next_char refers to the character encoding right after the last character of the sequence in encoded list\n",
    "    next_char.append(encoded[i + maxlen])\n",
    "    \n",
    "print('sequences: ', len(sequences), len(encoded)/step)"
   ]
  },
  {
   "cell_type": "code",
   "execution_count": null,
   "metadata": {
    "colab": {},
    "colab_type": "code",
    "id": "kei4lHnu6hG4"
   },
   "outputs": [],
   "source": [
    "x = np.zeros((len(sequences), maxlen, len(chars)), dtype=np.bool)\n",
    "y = np.zeros((len(sequences),len(chars)), dtype=np.bool)\n",
    "test = []\n",
    "for i, sequence in enumerate(sequences):\n",
    "    for t, char in enumerate(sequence):\n",
    "        # x[sequence#[0:137], char index in sequence[0:40], char encoded value[0:121]]\n",
    "        # 1 is stored as boolean type\n",
    "        x[i,t,char] = 1\n",
    "        test.append((i,t,char))\n",
    "    # y[sequence, next character after sequence in embeded]   \n",
    "    y[i, next_char[i]] = 1"
   ]
  },
  {
   "cell_type": "code",
   "execution_count": null,
   "metadata": {
    "colab": {},
    "colab_type": "code",
    "id": "tREFT9TL7LXH"
   },
   "outputs": [],
   "source": [
    "model = Sequential()\n",
    "model.add(LSTM(128, input_shape=(maxlen, len(chars))))\n",
    "# y is the output next character after the sequence\n",
    "model.add(Dense(len(chars), activation='softmax'))\n",
    "\n",
    "model.compile(loss='categorical_crossentropy', optimizer='adam')"
   ]
  },
  {
   "cell_type": "code",
   "execution_count": null,
   "metadata": {
    "colab": {
     "base_uri": "https://localhost:8080/",
     "height": 221
    },
    "colab_type": "code",
    "id": "7xCk58-B7jJU",
    "outputId": "1c86b8f1-56d2-422e-cef2-247dc34169a0"
   },
   "outputs": [
    {
     "name": "stdout",
     "output_type": "stream",
     "text": [
      "Model: \"sequential\"\n",
      "_________________________________________________________________\n",
      "Layer (type)                 Output Shape              Param #   \n",
      "=================================================================\n",
      "lstm (LSTM)                  (None, 128)               84480     \n",
      "_________________________________________________________________\n",
      "dense (Dense)                (None, 36)                4644      \n",
      "=================================================================\n",
      "Total params: 89,124\n",
      "Trainable params: 89,124\n",
      "Non-trainable params: 0\n",
      "_________________________________________________________________\n"
     ]
    }
   ],
   "source": [
    "model.summary()"
   ]
  },
  {
   "cell_type": "code",
   "execution_count": null,
   "metadata": {
    "colab": {},
    "colab_type": "code",
    "id": "SV743DoZ7ndT"
   },
   "outputs": [],
   "source": [
    "def sample(preds):\n",
    "    \"\"\"\n",
    "    It normalizes the array of preds to proba (with their sum equal to 1)\n",
    "    Then it picks the index of the first maximum based on a random draw with the proba array weight\n",
    "    \"\"\"\n",
    "    # helper function to sample an index from a probability array\n",
    "    preds = np.asarray(preds).astype('float64')\n",
    "    \n",
    "    # Null operation\n",
    "    preds = np.log(preds) / 1\n",
    "    exp_preds = np.exp(preds)\n",
    "    \n",
    "    # Normalize to the sum of one for the array of probabilities\n",
    "    preds = exp_preds / np.sum(exp_preds)\n",
    "    \n",
    "    probas = np.random.multinomial(1, preds, 1)\n",
    "    \n",
    "    # Returns the indices of the maximum values along an axis.\n",
    "    return np.argmax(probas)"
   ]
  },
  {
   "cell_type": "code",
   "execution_count": null,
   "metadata": {
    "colab": {},
    "colab_type": "code",
    "id": "MclR_6Xk7orY"
   },
   "outputs": [],
   "source": [
    "def on_epoch_end(epoch, _):\n",
    "    # Function invoked at end of each epoch. Prints generated text.\n",
    "    \n",
    "    print()\n",
    "    print('----- Generating text after Epoch: %d' % epoch)\n",
    "    \n",
    "    # Random prompt to grab a 40 character sample seed\n",
    "    start_index = random.randint(0, len(text) - maxlen - 1)\n",
    "    \n",
    "    generated = ''\n",
    "    \n",
    "    sentence = text[start_index: start_index + maxlen]\n",
    "    generated += sentence\n",
    "    \n",
    "    print('----- Generating with seed: \"' + sentence + '\"')\n",
    "    sys.stdout.write(generated)\n",
    "    \n",
    "    for i in range(400):\n",
    "        # 400 is the length of generated text\n",
    "        x_pred = np.zeros((1, maxlen, len(chars)))\n",
    "        for t, char in enumerate(sentence):\n",
    "            x_pred[0, t, char_int[char]] = 1\n",
    "            \n",
    "        # Predict the next step (character)\n",
    "        # preds is an array of length 121 \n",
    "        # with all the elements zero except only one of them 1\n",
    "        preds = model.predict(x_pred, verbose=0)[0]\n",
    "        next_index = sample(preds)\n",
    "        next_char = int_char[next_index]\n",
    "        \n",
    "        # update the seed by moving one character forward\n",
    "        sentence = sentence[1:] + next_char\n",
    "        \n",
    "        sys.stdout.write(next_char)\n",
    "        sys.stdout.flush()\n",
    "    print()\n",
    "\n",
    "\n",
    "print_callback = LambdaCallback(on_epoch_end=on_epoch_end)"
   ]
  },
  {
   "cell_type": "code",
   "execution_count": null,
   "metadata": {
    "colab": {
     "base_uri": "https://localhost:8080/",
     "height": 1000
    },
    "colab_type": "code",
    "id": "2uAnwRVT7vnN",
    "outputId": "a2976c06-9fb6-43c4-f20d-0cd68dbf89aa"
   },
   "outputs": [
    {
     "name": "stdout",
     "output_type": "stream",
     "text": [
      "Epoch 1/10\n",
      "21425/21433 [============================>.] - ETA: 0s - loss: 2.0468\n",
      "----- Generating text after Epoch: 0\n",
      "----- Generating with seed: \"h shame lives in death with glorious fam\"\n",
      "h shame lives in death with glorious fams'row, ganionttent locts. ut are thou detand. whens hame my ofter this not speakel and swleak me, wething on it? there ears god you loth all, he cart by speinlar'd sirn, and in truturemin ithelles; gargen my marters but us the us; and frost feacon with this fixturos.ich ooth.worth sely? it is one me poring is she one our plisive not batth.to this it, but him rome himellard. if our now the dight fo\n",
      "21433/21433 [==============================] - 111s 5ms/step - loss: 2.0468\n",
      "Epoch 2/10\n",
      "21425/21433 [============================>.] - ETA: 0s - loss: 1.7548\n",
      "----- Generating text after Epoch: 1\n",
      "----- Generating with seed: \"mp his windpipe suffocate.but exeter hat\"\n",
      "mp his windpipe suffocate.but exeter hath thing sicld now there. i am, but shemper, with acpias of fool.protius.orselive. o dend saieles. a thing, back, our my piltarge ushdoth till the sound, got duke!what! exeunt stond of were sab friendsperiogk, sutons of himbelftate she hinded but beseding. you seate by heope of master have caysiage of herful crownon triedthain hath fail chemponed of great this often here ontenbouch. the ispeas on, \n",
      "21433/21433 [==============================] - 111s 5ms/step - loss: 1.7548\n",
      "Epoch 3/10\n",
      "21423/21433 [============================>.] - ETA: 0s - loss: 1.6554\n",
      "----- Generating text after Epoch: 2\n",
      "----- Generating with seed: \" feasting to a public fast;thy smoothing\"\n",
      " feasting to a public fast;thy smoothing at him and purlthe causee, the lown. undorto bear sir, thans man prrigad flly; i am leet it is lost as thesear will not what you holy!what's he shope thee's losity awelicthixh am it is thephentoling fnom dreft letting with my muttal, of manchinch but, ill think-to give ma-be the lives world not love outiage. ay seemd gloucester these fatster; is is this dueleraction,a fair than heno? exeunt.scen \n",
      "21433/21433 [==============================] - 113s 5ms/step - loss: 1.6553\n",
      "Epoch 4/10\n",
      "21422/21433 [============================>.] - ETA: 0s - loss: 1.6003\n",
      "----- Generating text after Epoch: 3\n",
      "----- Generating with seed: \" weeps every little flower, lamenting so\"\n",
      " weeps every little flower, lamenting so go to thee.ay, i's verius and since your quit the pollowith: the goore,she like own the whose manuent bus madewith aby maury chance. what is every begobydam is favout barged you. frouns. sick a husband of his churge one.bapetia.why? do scene it is himher's, the'r god you any of a promishs'. heakst. what contratt this all that? your quit perchempet.you witch;undo dead disbantance; wass don just wi\n",
      "21433/21433 [==============================] - 112s 5ms/step - loss: 1.6003\n",
      "Epoch 5/10\n",
      "21428/21433 [============================>.] - ETA: 0s - loss: 1.5651\n",
      "----- Generating text after Epoch: 4\n",
      "----- Generating with seed: \"his kind.theseus.the kinder we, to give \"\n",
      "his kind.theseus.the kinder we, to give my care usblait.gaventh.causio.my by you gillmy cracking this dumselo i blood;but but fornandas to best him and gold?bout likes. court edses-farius. i have power of officered.fairtable.madber mileswhat do honouraster sitconsold to chmeding by times one on triad every offitation, anting at it grace unna; i say, polition full of monick to baring. away, what it? fortune!ome his tell you no marge,impe\n",
      "21433/21433 [==============================] - 110s 5ms/step - loss: 1.5650\n",
      "Epoch 6/10\n",
      "21429/21433 [============================>.] - ETA: 0s - loss: 1.5397\n",
      "----- Generating text after Epoch: 5\n",
      "----- Generating with seed: \" shipmen do the hurricano call,constring\"\n",
      " shipmen do the hurricano call,constring speak ov towerd. here. look o roor, with prepent,i will not some vile to not i beleeve us from counious.manil how. bring you, we it? asmanua.i say you make blessister, come, angers flew them hand in th arms:that haves ny i so. buckomn.herryiman.then prove'th blood,hell, whelins arms!our ontamemus. then is your legs abudted 'engrach: would not there thou dar tear. othello. why, larr. no, god- go h\n",
      "21433/21433 [==============================] - 111s 5ms/step - loss: 1.5397\n",
      "Epoch 7/10\n",
      "21433/21433 [==============================] - ETA: 0s - loss: 1.5208\n",
      "----- Generating text after Epoch: 6\n",
      "----- Generating with seed: \" excellent in art, and still so rising, \"\n",
      " excellent in art, and still so rising, servant in his creptorthis speak of scere prizal'd, or and conwatth, th' an antonto carchily peerit soul-ouse of all.ost gide we men must alls both stones entraght eatrer!desdemona.vorius. when desint so sagst the born, and by my good also, in thein; well hang live your brutus, the bear i am nuthful at ours.besides, more cramp, of else the way. why in conceitted had as desire cloten service. yrap!\n",
      "21433/21433 [==============================] - 110s 5ms/step - loss: 1.5208\n",
      "Epoch 8/10\n",
      "21424/21433 [============================>.] - ETA: 0s - loss: 1.5056\n",
      "----- Generating text after Epoch: 7\n",
      "----- Generating with seed: \"l upon you anon, for some advantage to y\"\n",
      "l upon you anon, for some advantage to your bear have mine eye she to year your enemost sick never son of servant, proceed. the sdier me. indesdis proves the world antonour.olivia.i norer word he! her gentleman, am none of officers.prospero.you be. proteus. navery. thurio, ask, and advantur'd, make me to altable. god to well derettist still ruman of sul ye. my worshs we wit us in hell. tis a thousthe rehul? greving of cursed,for some se\n",
      "21433/21433 [==============================] - 110s 5ms/step - loss: 1.5056\n",
      "Epoch 9/10\n",
      "21422/21433 [============================>.] - ETA: 0s - loss: 1.4931\n",
      "----- Generating text after Epoch: 8\n",
      "----- Generating with seed: \" with a brazen wall. clifford. now, rich\"\n",
      " with a brazen wall. clifford. now, richard moue boths.this such an can this batly in reboding dreaded. i sees? we am, how volwet his factasthan, stay how this giverymustrend, brother to his servant. i be fortid mind hable to than they wounded out. yarks to i! yet which enoughtears and madting done, my pebirer,with devousd wexto. thus with cap on no combatch wirak.lord. content. after ever that the commonwere abutted friend thy at,our f\n",
      "21433/21433 [==============================] - 109s 5ms/step - loss: 1.4932\n",
      "Epoch 10/10\n",
      "21423/21433 [============================>.] - ETA: 0s - loss: 1.4825\n",
      "----- Generating text after Epoch: 9\n",
      "----- Generating with seed: \", besides the groves,the skies, the foun\"\n",
      ", besides the groves,the skies, the fountain's might discroach you countrally, that to my condunsds.to speechmenom pelact wonder, to doubt-meetend streek to kings, for him old toworth at nor talk of the stood in my prights as thou sunks' again; a poor high leal un;ind prosper!ceriton.take helly-hath beepure itself will,let not to what that her been turns a traptors, gentle besadeford.ebend.hom walk is not of the queen. time the jott of \n",
      "21433/21433 [==============================] - 109s 5ms/step - loss: 1.4825\n"
     ]
    },
    {
     "data": {
      "text/plain": [
       "<tensorflow.python.keras.callbacks.History at 0x7fb49a5f3d68>"
      ]
     },
     "execution_count": 25,
     "metadata": {
      "tags": []
     },
     "output_type": "execute_result"
    }
   ],
   "source": [
    "# fit the model\n",
    "\n",
    "model.fit(x, y,\n",
    "          batch_size=32,\n",
    "          epochs=10,\n",
    "          callbacks=[print_callback])"
   ]
  },
  {
   "cell_type": "markdown",
   "metadata": {
    "colab_type": "text",
    "id": "zE4a4O7Bp5x1"
   },
   "source": [
    "# Resources and Stretch Goals"
   ]
  },
  {
   "cell_type": "markdown",
   "metadata": {
    "colab_type": "text",
    "id": "uT3UV3gap9H6"
   },
   "source": [
    "## Stretch goals:\n",
    "- Refine the training and generation of text to be able to ask for different genres/styles of Shakespearean text (e.g. plays versus sonnets)\n",
    "- Train a classification model that takes text and returns which work of Shakespeare it is most likely to be from\n",
    "- Make it more performant! Many possible routes here - lean on Keras, optimize the code, and/or use more resources (AWS, etc.)\n",
    "- Revisit the news example from class, and improve it - use categories or tags to refine the model/generation, or train a news classifier\n",
    "- Run on bigger, better data\n",
    "\n",
    "## Resources:\n",
    "- [The Unreasonable Effectiveness of Recurrent Neural Networks](https://karpathy.github.io/2015/05/21/rnn-effectiveness/) - a seminal writeup demonstrating a simple but effective character-level NLP RNN\n",
    "- [Simple NumPy implementation of RNN](https://github.com/JY-Yoon/RNN-Implementation-using-NumPy/blob/master/RNN%20Implementation%20using%20NumPy.ipynb) - Python 3 version of the code from \"Unreasonable Effectiveness\"\n",
    "- [TensorFlow RNN Tutorial](https://github.com/tensorflow/models/tree/master/tutorials/rnn) - code for training a RNN on the Penn Tree Bank language dataset\n",
    "- [4 part tutorial on RNN](http://www.wildml.com/2015/09/recurrent-neural-networks-tutorial-part-1-introduction-to-rnns/) - relates RNN to the vanishing gradient problem, and provides example implementation\n",
    "- [RNN training tips and tricks](https://github.com/karpathy/char-rnn#tips-and-tricks) - some rules of thumb for parameterizing and training your RNN"
   ]
  }
 ],
 "metadata": {
  "accelerator": "GPU",
  "colab": {
   "collapsed_sections": [],
   "include_colab_link": true,
   "name": "LS_DS17_431_RNN_and_LSTM_Assignment.ipynb",
   "provenance": []
  },
  "kernelspec": {
   "display_name": "ML_ANN (python3.7)",
   "language": "python",
   "name": "ml_ann"
  },
  "language_info": {
   "codemirror_mode": {
    "name": "ipython",
    "version": 3
   },
   "file_extension": ".py",
   "mimetype": "text/x-python",
   "name": "python",
   "nbconvert_exporter": "python",
   "pygments_lexer": "ipython3",
   "version": "3.7.0"
  },
  "nteract": {
   "version": "0.23.3"
  }
 },
 "nbformat": 4,
 "nbformat_minor": 4
}
